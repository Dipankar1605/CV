{
  "nbformat": 4,
  "nbformat_minor": 0,
  "metadata": {
    "colab": {
      "provenance": [],
      "authorship_tag": "ABX9TyMTlpXbM7956zsLKB46yB8A",
      "include_colab_link": true
    },
    "kernelspec": {
      "name": "python3",
      "display_name": "Python 3"
    },
    "language_info": {
      "name": "python"
    }
  },
  "cells": [
    {
      "cell_type": "markdown",
      "metadata": {
        "id": "view-in-github",
        "colab_type": "text"
      },
      "source": [
        "<a href=\"https://colab.research.google.com/github/Dipankar1605/CV/blob/main/Series.ipynb\" target=\"_parent\"><img src=\"https://colab.research.google.com/assets/colab-badge.svg\" alt=\"Open In Colab\"/></a>"
      ]
    },
    {
      "cell_type": "code",
      "source": [
        "import pandas as pd"
      ],
      "metadata": {
        "id": "vPyk6kpT8X_e"
      },
      "execution_count": null,
      "outputs": []
    },
    {
      "cell_type": "code",
      "source": [
        "animals = [ 'Tiger', 'Bear', 'Moose']\n",
        "pd.Series(animals)"
      ],
      "metadata": {
        "colab": {
          "base_uri": "https://localhost:8080/"
        },
        "id": "RB_uHBy896SU",
        "outputId": "3c173bc9-6d06-4ce8-f6dd-cc3d4a39cfde"
      },
      "execution_count": null,
      "outputs": [
        {
          "output_type": "execute_result",
          "data": {
            "text/plain": [
              "0    Tiger\n",
              "1     Bear\n",
              "2    Moose\n",
              "dtype: object"
            ]
          },
          "metadata": {},
          "execution_count": 3
        }
      ]
    },
    {
      "cell_type": "code",
      "source": [
        "sports = {'Archery': 'Bhutan',\n",
        "          'Golf': 'Scotland',\n",
        "          'Sumo': 'Japan',\n",
        "          'Taekwando': 'South Korea'}\n",
        "s = pd.Series(sports)\n",
        "s"
      ],
      "metadata": {
        "colab": {
          "base_uri": "https://localhost:8080/"
        },
        "id": "bLeVmW_5-YBq",
        "outputId": "d9054212-ddcf-4016-eb07-3e77e786e228"
      },
      "execution_count": null,
      "outputs": [
        {
          "output_type": "execute_result",
          "data": {
            "text/plain": [
              "Archery           Bhutan\n",
              "Golf            Scotland\n",
              "Sumo               Japan\n",
              "Taekwando    South Korea\n",
              "dtype: object"
            ]
          },
          "metadata": {},
          "execution_count": 7
        }
      ]
    },
    {
      "cell_type": "code",
      "source": [
        "s.values"
      ],
      "metadata": {
        "colab": {
          "base_uri": "https://localhost:8080/"
        },
        "id": "OaH0KxOl-6ut",
        "outputId": "266fc25e-ba21-4ef7-cce0-f6aba1772dbb"
      },
      "execution_count": null,
      "outputs": [
        {
          "output_type": "execute_result",
          "data": {
            "text/plain": [
              "array(['Bhutan', 'Scotland', 'Japan', 'South Korea'], dtype=object)"
            ]
          },
          "metadata": {},
          "execution_count": 8
        }
      ]
    },
    {
      "cell_type": "code",
      "source": [
        "s.index"
      ],
      "metadata": {
        "colab": {
          "base_uri": "https://localhost:8080/"
        },
        "id": "h21cB0qa-8ey",
        "outputId": "b6598fec-b086-48f7-dfee-a2595c85793d"
      },
      "execution_count": null,
      "outputs": [
        {
          "output_type": "execute_result",
          "data": {
            "text/plain": [
              "Index(['Archery', 'Golf', 'Sumo', 'Taekwando'], dtype='object')"
            ]
          },
          "metadata": {},
          "execution_count": 9
        }
      ]
    },
    {
      "cell_type": "code",
      "source": [
        "import numpy as np\n",
        "s = pd.Series(np.random.randint(0,1000,10000))\n",
        "s.head()"
      ],
      "metadata": {
        "colab": {
          "base_uri": "https://localhost:8080/"
        },
        "id": "kNhFmLAg_LOu",
        "outputId": "1e0d60f5-e62d-46c2-b412-d62a09ab8031"
      },
      "execution_count": null,
      "outputs": [
        {
          "output_type": "execute_result",
          "data": {
            "text/plain": [
              "0    120\n",
              "1    806\n",
              "2    210\n",
              "3    892\n",
              "4    784\n",
              "dtype: int64"
            ]
          },
          "metadata": {},
          "execution_count": 11
        }
      ]
    },
    {
      "cell_type": "code",
      "source": [
        "import numpy as np\n",
        "s = pd.Series(np.random.randint(0,1000,10000))\n",
        "s.tail()"
      ],
      "metadata": {
        "colab": {
          "base_uri": "https://localhost:8080/"
        },
        "id": "mqwgJ8FI_4dz",
        "outputId": "24cbb3af-36da-4c8a-c2bb-73d3b7e39e98"
      },
      "execution_count": null,
      "outputs": [
        {
          "output_type": "execute_result",
          "data": {
            "text/plain": [
              "9995      5\n",
              "9996    365\n",
              "9997    393\n",
              "9998    219\n",
              "9999    566\n",
              "dtype: int64"
            ]
          },
          "metadata": {},
          "execution_count": 12
        }
      ]
    },
    {
      "cell_type": "code",
      "source": [
        "s = pd.Series([1, 2, 3])\n",
        "s.loc['Animal'] = 'Bears'\n",
        "s[3]=\"907\"\n",
        "s"
      ],
      "metadata": {
        "colab": {
          "base_uri": "https://localhost:8080/"
        },
        "id": "hWZ0QzIB_-nM",
        "outputId": "f290953d-43eb-4230-e76e-61dbc5691e4d"
      },
      "execution_count": null,
      "outputs": [
        {
          "output_type": "execute_result",
          "data": {
            "text/plain": [
              "0             1\n",
              "1             2\n",
              "2             3\n",
              "Animal    Bears\n",
              "3           907\n",
              "dtype: object"
            ]
          },
          "metadata": {},
          "execution_count": 13
        }
      ]
    }
  ]
}